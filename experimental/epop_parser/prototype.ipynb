{
 "cells": [
  {
   "cell_type": "markdown",
   "metadata": {},
   "source": [
    "# Epop Legacy Parser: Jupyter Notebook\n",
    "\n",
    "The following website is used to generate queries: [ePop Data Explorer](https://edex.phys.ucalgary.ca/). Legacy ephemeris format is used instead of SP3 ephemeris format as readily available parser's are not available. The existing `RINEX` implementations are for GPS satellites. Implementing general purpose SP3 parser would take too long.\n",
    "\n",
    "The following 3rd-Party dependencies are used:\n",
    "- Numpy\n",
    "\n",
    "**How to run notebook**:\n",
    "\n",
    "Option 1: After cloning the repo, execute `uv sync` under this directory\n",
    "    - Assumes you have `uv` installed on your system\n",
    "\n",
    "Option 2: Create a virtual environment, separately install the dependencies, copy the jupyter notebook to the root of the virtual environment"
   ]
  },
  {
   "cell_type": "code",
   "execution_count": null,
   "metadata": {},
   "outputs": [],
   "source": [
    "import numpy as np\n",
    "from pathlib import Path\n",
    "from datetime import datetime\n",
    "from dataclasses import dataclass\n",
    "\n",
    "@dataclass\n",
    "class SWARM_EPHEMERIS_LEGACY:\n",
    "    \"\"\"Dataclass for performing operations with Legacy SWARM-E ephemeris\n",
    "    including File I/O\"\"\"\n",
    "    date: datetime\n",
    "\n",
    "    def __init__(self, ephemeris_fname: Path):\n",
    "        ...\n",
    "\n",
    "    def _read_ephemeris_file(self, fname: Path):\n",
    "\n",
    "        # There are 2 lines of metdata for each legacy ephemeris file\n",
    "        METADATA_LINES = 2\n",
    "        line_count = 0\n",
    "        with open(fname, 'r') as e_file:\n"
   ]
  },
  {
   "cell_type": "code",
   "execution_count": 2,
   "metadata": {},
   "outputs": [],
   "source": [
    "from pathlib import Path\n",
    "test = Path(\"TEST_EPHEM.txt\")\n",
    "\n",
    "\n",
    "\n"
   ]
  }
 ],
 "metadata": {
  "kernelspec": {
   "display_name": ".venv",
   "language": "python",
   "name": "python3"
  },
  "language_info": {
   "codemirror_mode": {
    "name": "ipython",
    "version": 3
   },
   "file_extension": ".py",
   "mimetype": "text/x-python",
   "name": "python",
   "nbconvert_exporter": "python",
   "pygments_lexer": "ipython3",
   "version": "3.12.7"
  }
 },
 "nbformat": 4,
 "nbformat_minor": 2
}
